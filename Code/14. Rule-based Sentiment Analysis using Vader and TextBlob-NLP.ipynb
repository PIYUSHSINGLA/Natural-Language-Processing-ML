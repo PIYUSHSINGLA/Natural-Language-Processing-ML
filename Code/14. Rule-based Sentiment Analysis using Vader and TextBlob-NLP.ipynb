{
  "nbformat": 4,
  "nbformat_minor": 0,
  "metadata": {
    "colab": {
      "name": "Rule-based Sentiment Analysis using Vader and TextBlob - NLP.ipynb",
      "provenance": [],
      "collapsed_sections": []
    },
    "kernelspec": {
      "name": "python3",
      "display_name": "Python 3"
    }
  },
  "cells": [
    {
      "cell_type": "markdown",
      "metadata": {
        "id": "tD0e_uBHQHiB",
        "colab_type": "text"
      },
      "source": [
        "# ___Sentiment Analysis using Vader and TextBlob___"
      ]
    },
    {
      "cell_type": "markdown",
      "metadata": {
        "id": "0-k9F4ZUjbWE",
        "colab_type": "text"
      },
      "source": [
        "___Rule-based methods:___\n",
        "* ___TextBlob___ _: Simple rule-based API for sentiment analysis_\n",
        "* ___VADER___ _: Parsimonious rule-based model for sentiment analysis of social media text._\n",
        "\n",
        "___Feature-based methods:___\n",
        "* ___Logistic Regression___ _: Generalized linear model in Scikit-learn._\n",
        "* ___Support Vector Machine (SVM)___ _: Linear model in Scikit-learn with a stochastic gradient descent (SGD) optimizer for gradient loss._\n",
        "* ___Naive Bayes___\n",
        "\n",
        "___Embedding-based methods:___\n",
        "* ___FastText___ _: An NLP library that uses highly efficient CPU-based representations of word embeddings for classification tasks._\n",
        "* ___Flair___ _: A PyTorch-based framework for NLP tasks such as sequence tagging and classification._\n",
        "\n",
        "_[Reference](https://towardsdatascience.com/fine-grained-sentiment-analysis-in-python-part-1-2697bb111ed4)_"
      ]
    },
    {
      "cell_type": "code",
      "metadata": {
        "id": "3QyGBj8pOAU4",
        "colab_type": "code",
        "colab": {}
      },
      "source": [
        "#Importing required Libraries\n",
        "import pandas as pd\n",
        "import numpy as np\n",
        "import matplotlib.pyplot as plt\n",
        "import seaborn as sns"
      ],
      "execution_count": null,
      "outputs": []
    },
    {
      "cell_type": "markdown",
      "metadata": {
        "id": "ARoEjG9yU8fp",
        "colab_type": "text"
      },
      "source": [
        "## ___VADER Sentiment Analysis___\n",
        "___VADER ( Valence Aware Dictionary for Sentiment Reasoning)___ _is a model used for text sentiment analysis that is sensitive to both polarity (positive/negative) and intensity (strength) of emotion. __VADER sentimental analysis__ relies on a dictionary that maps lexical features to emotion intensities known as sentiment scores. It is a rule-based sentiment analysis tool that is specifically attuned to sentiments expressed in social media._\n",
        "\n",
        "___Advantages of using VADER___\n",
        "\n",
        "_VADER has a lot of advantages over traditional methods of Sentiment Analysis, including:_\n",
        "* _It works exceedingly well on social media type text, yet readily generalizes to multiple domains_\n",
        "* _It doesn’t require any training data but is constructed from a generalizable, valence-based, human-curated gold standard sentiment lexicon_\n",
        "* _It is fast enough to be used online with streaming data, and_\n",
        "* _It does not severely suffer from a speed-performance tradeoff._"
      ]
    },
    {
      "cell_type": "code",
      "metadata": {
        "id": "FTJEIpUqVvBJ",
        "colab_type": "code",
        "colab": {
          "base_uri": "https://localhost:8080/",
          "height": 50
        },
        "outputId": "5997ea6b-d61c-41ed-bed0-a5b3117308e6"
      },
      "source": [
        "import nltk\n",
        "nltk.download('vader_lexicon')"
      ],
      "execution_count": 11,
      "outputs": [
        {
          "output_type": "stream",
          "text": [
            "[nltk_data] Downloading package vader_lexicon to /root/nltk_data...\n"
          ],
          "name": "stdout"
        },
        {
          "output_type": "execute_result",
          "data": {
            "text/plain": [
              "True"
            ]
          },
          "metadata": {
            "tags": []
          },
          "execution_count": 11
        }
      ]
    },
    {
      "cell_type": "code",
      "metadata": {
        "id": "dLuanK-NV__d",
        "colab_type": "code",
        "colab": {}
      },
      "source": [
        "from nltk.sentiment.vader import SentimentIntensityAnalyzer\n",
        "sid = SentimentIntensityAnalyzer()"
      ],
      "execution_count": 14,
      "outputs": []
    },
    {
      "cell_type": "code",
      "metadata": {
        "id": "dHU-HSijWAls",
        "colab_type": "code",
        "colab": {
          "base_uri": "https://localhost:8080/",
          "height": 33
        },
        "outputId": "cb5cee17-5762-44ef-8f02-c998b8597eb4"
      },
      "source": [
        "doc1 = 'This is a good moview'\n",
        "sid.polarity_scores(doc1)"
      ],
      "execution_count": 16,
      "outputs": [
        {
          "output_type": "execute_result",
          "data": {
            "text/plain": [
              "{'compound': 0.4404, 'neg': 0.0, 'neu': 0.508, 'pos': 0.492}"
            ]
          },
          "metadata": {
            "tags": []
          },
          "execution_count": 16
        }
      ]
    },
    {
      "cell_type": "code",
      "metadata": {
        "id": "JxOhw75VWArB",
        "colab_type": "code",
        "colab": {
          "base_uri": "https://localhost:8080/",
          "height": 33
        },
        "outputId": "38d4fd13-ceeb-4500-805d-50007a90355e"
      },
      "source": [
        "doc2 = 'This was the best, most awesome movie EVER MADE!'\n",
        "sid.polarity_scores(doc2)"
      ],
      "execution_count": 17,
      "outputs": [
        {
          "output_type": "execute_result",
          "data": {
            "text/plain": [
              "{'compound': 0.8716, 'neg': 0.0, 'neu': 0.441, 'pos': 0.559}"
            ]
          },
          "metadata": {
            "tags": []
          },
          "execution_count": 17
        }
      ]
    },
    {
      "cell_type": "markdown",
      "metadata": {
        "id": "f8r7puOsdulZ",
        "colab_type": "text"
      },
      "source": [
        "* _The __Positive, Negative and Neutral scores__ represent the proportion of text that falls in these categories. This means our sentence was rated as 67% Positive, 33% Neutral and 0% Negative. Hence all these should add up to 1._\n",
        "* _The __Compound score__ is computed by summing the valence scores of each word in the lexicon, adjusted according to the rules, and then normalized to be between -1 (most extreme negative) and +1 (most extreme positive)_"
      ]
    },
    {
      "cell_type": "markdown",
      "metadata": {
        "id": "eLTPiFP1QVVJ",
        "colab_type": "text"
      },
      "source": [
        "## ___TextBlob___\n",
        "\n",
        "* ___TextBlob Module___ _: Linguistic researchers have labeled the sentiment of words based on their domain expertise. Sentiment of words can vary based on where it is in a sentence. The TextBlob module allows us to take advantage of these labels._\n",
        "* ___Sentiment Labels___ _: Each word in a corpus is labeled in terms of polarity and subjectivity (there are more labels as well, but we're going to ignore them for now). A corpus' sentiment is the average of these._\n",
        "1. ___Polarity___ _: How positive or negative a word is. -1 is very negative. +1 is very positive._\n",
        "2. ___Subjectivity___ _: How subjective, or opinionated a word is. 0 is fact. +1 is very much an opinion._\n",
        "\n",
        "_The lexicon it refers to is in en-sentiment.xml, an XML document that includes the following four entries for the word “great”._\n",
        "\n",
        "```\n",
        "<word form=\"great\" cornetto_synset_id=\"n_a-525317\" wordnet_id=\"a-01123879\" pos=\"JJ\" sense=\"very good\" polarity=\"1.0\" subjectivity=\"1.0\" intensity=\"1.0\" confidence=\"0.9\" />\n",
        "<word form=\"great\" wordnet_id=\"a-01278818\" pos=\"JJ\" sense=\"of major significance or importance\" polarity=\"1.0\" subjectivity=\"1.0\" intensity=\"1.0\" confidence=\"0.9\" />\n",
        "<word form=\"great\" wordnet_id=\"a-01386883\" pos=\"JJ\" sense=\"relatively large in size or number or extent\" polarity=\"0.4\" subjectivity=\"0.2\" intensity=\"1.0\" confidence=\"0.9\" />\n",
        "<word form=\"great\" wordnet_id=\"a-01677433\" pos=\"JJ\" sense=\"remarkable or out of the ordinary in degree or magnitude or effect\" polarity=\"0.8\" subjectivity=\"0.8\" intensity=\"1.0\" confidence=\"0.9\" />\n",
        "```\n",
        "_When calculating sentiment for a single word, TextBlob uses a sophisticated technique known to mathematicians as “__averaging__”._"
      ]
    },
    {
      "cell_type": "code",
      "metadata": {
        "id": "Z3TGNTk6OASh",
        "colab_type": "code",
        "colab": {}
      },
      "source": [
        "from textblob import TextBlob"
      ],
      "execution_count": 10,
      "outputs": []
    },
    {
      "cell_type": "code",
      "metadata": {
        "id": "9thljcJfOANf",
        "colab_type": "code",
        "colab": {
          "base_uri": "https://localhost:8080/",
          "height": 33
        },
        "outputId": "f75e8b62-1864-4fc8-b77f-4bcb01847c16"
      },
      "source": [
        "doc1 = 'This is a good moview'\n",
        "TextBlob(doc1).sentiment"
      ],
      "execution_count": 20,
      "outputs": [
        {
          "output_type": "execute_result",
          "data": {
            "text/plain": [
              "Sentiment(polarity=0.7, subjectivity=0.6000000000000001)"
            ]
          },
          "metadata": {
            "tags": []
          },
          "execution_count": 20
        }
      ]
    },
    {
      "cell_type": "markdown",
      "metadata": {
        "id": "H7dz4cKMikAn",
        "colab_type": "text"
      },
      "source": [
        "_By default textblob uses PatternAnalyzer from Pattern library. But we can also use NaiveBayes analyzer._"
      ]
    },
    {
      "cell_type": "code",
      "metadata": {
        "id": "IzIsTXFdivyx",
        "colab_type": "code",
        "colab": {
          "base_uri": "https://localhost:8080/",
          "height": 98
        },
        "outputId": "082f0e15-fdda-4f77-b27c-5b1629a965be"
      },
      "source": [
        "import nltk\n",
        "nltk.download('movie_reviews')\n",
        "nltk.download('punkt')\n",
        "from textblob.sentiments import NaiveBayesAnalyzer\n",
        "\n",
        "opinion = TextBlob(\"python is dope!\", analyzer=NaiveBayesAnalyzer())\n",
        "opinion.sentiment"
      ],
      "execution_count": 23,
      "outputs": [
        {
          "output_type": "stream",
          "text": [
            "[nltk_data] Downloading package movie_reviews to /root/nltk_data...\n",
            "[nltk_data]   Package movie_reviews is already up-to-date!\n",
            "[nltk_data] Downloading package punkt to /root/nltk_data...\n",
            "[nltk_data]   Unzipping tokenizers/punkt.zip.\n"
          ],
          "name": "stdout"
        },
        {
          "output_type": "execute_result",
          "data": {
            "text/plain": [
              "Sentiment(classification='neg', p_pos=0.38888888888888934, p_neg=0.6111111111111108)"
            ]
          },
          "metadata": {
            "tags": []
          },
          "execution_count": 23
        }
      ]
    }
  ]
}